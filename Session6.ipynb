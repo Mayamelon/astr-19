{
 "cells": [
  {
   "cell_type": "markdown",
   "id": "ce839460-1073-423f-9b76-e39552e7dac8",
   "metadata": {},
   "source": [
    "This program will create an array with x, sin(x), and cos(x) represented from 0 to 2pi in 1000 increments and then print the first 10 sets of x, sin(x), cos(x)\n",
    "\n",
    "This line imports the numpy library and the library can be referenced with np"
   ]
  },
  {
   "cell_type": "code",
   "execution_count": null,
   "id": "7cd72a5b-080f-4757-bf3a-d865513a9858",
   "metadata": {},
   "outputs": [],
   "source": [
    "import numpy as np"
   ]
  },
  {
   "cell_type": "markdown",
   "id": "80b54e54-89bd-42be-8c58-2a9b3696132a",
   "metadata": {},
   "source": [
    "This function defines a sine function that uses numpy to return the sin of a parameter x"
   ]
  },
  {
   "cell_type": "code",
   "execution_count": 5,
   "id": "4576ea35-f57f-46ca-aec0-53ceddeb3e73",
   "metadata": {},
   "outputs": [],
   "source": [
    "def sine(x):\n",
    "    return np.sin(x)"
   ]
  },
  {
   "cell_type": "markdown",
   "id": "dd1bd3ee-a3de-45b5-bd45-ddf96d98899c",
   "metadata": {},
   "source": [
    "This function defines a cosine function that uses numpy to return the cos of a parameter x"
   ]
  },
  {
   "cell_type": "code",
   "execution_count": 6,
   "id": "4e57e5c2-fe67-4f80-9389-6e7fbf8b5bcc",
   "metadata": {},
   "outputs": [],
   "source": [
    "def cosine(x):\n",
    "    return np.cos(x)"
   ]
  },
  {
   "cell_type": "markdown",
   "id": "9a6995f7-7ec5-4893-945c-ec60403a3922",
   "metadata": {},
   "source": [
    "This cell creates a 2 dimensional table where the first row is x where x is from 0 to 2pi with 1000 increments. The second and third rows are then populated with the sine of x and the cosine of x respectively for each value of x"
   ]
  },
  {
   "cell_type": "code",
   "execution_count": 13,
   "id": "7facd7f4-40a1-40e3-815d-715bef1fac8c",
   "metadata": {},
   "outputs": [],
   "source": [
    "table = [np.arange(0, 2*np.pi, (2*np.pi)/1000), [], []]\n",
    "for x in table[0]:\n",
    "    table[1].append(sine(x))\n",
    "    table[2].append(cosine(x))"
   ]
  },
  {
   "cell_type": "markdown",
   "id": "684a649e-ca8d-4ca5-9105-bca227ec4fe9",
   "metadata": {},
   "source": [
    "This cell prints a header for a table and then prints the first 10 values of x, sin(x), and cos(x)"
   ]
  },
  {
   "cell_type": "code",
   "execution_count": 15,
   "id": "0b3c18b2-1883-4015-a661-2f3b2918c06d",
   "metadata": {},
   "outputs": [
    {
     "name": "stdout",
     "output_type": "stream",
     "text": [
      "x, sin(x), cos(x)\n",
      "0.0, 0.0, 1.0\n",
      "0.006283185307179587, 0.006283143965558951, 0.9999802608561371\n",
      "0.012566370614359173, 0.012566039883352607, 0.9999210442038161\n",
      "0.01884955592153876, 0.018848439715408175, 0.999822352380809\n",
      "0.025132741228718346, 0.02513009544333748, 0.9996841892832999\n",
      "0.031415926535897934, 0.03141075907812829, 0.9995065603657316\n",
      "0.03769911184307752, 0.03769018266993454, 0.9992894726405892\n",
      "0.04398229715025711, 0.04396811831786491, 0.9990329346781247\n",
      "0.05026548245743669, 0.050244318179769556, 0.9987369566060175\n",
      "0.05654866776461628, 0.05651853448202453, 0.998401550108975\n"
     ]
    }
   ],
   "source": [
    "print (\"x, sin(x), cos(x)\")\n",
    "for n in range(10):\n",
    "    print (f\"{table[0][n]}, {table[1][n]}, {table[2][n]}\")"
   ]
  },
  {
   "cell_type": "code",
   "execution_count": null,
   "id": "976b3567-d579-40c4-a301-ee5256f2bc50",
   "metadata": {},
   "outputs": [],
   "source": []
  }
 ],
 "metadata": {
  "kernelspec": {
   "display_name": "Python 3 (ipykernel)",
   "language": "python",
   "name": "python3"
  },
  "language_info": {
   "codemirror_mode": {
    "name": "ipython",
    "version": 3
   },
   "file_extension": ".py",
   "mimetype": "text/x-python",
   "name": "python",
   "nbconvert_exporter": "python",
   "pygments_lexer": "ipython3",
   "version": "3.11.5"
  }
 },
 "nbformat": 4,
 "nbformat_minor": 5
}
